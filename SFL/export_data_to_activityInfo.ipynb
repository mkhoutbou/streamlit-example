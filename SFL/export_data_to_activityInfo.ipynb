{
 "cells": [
  {
   "cell_type": "code",
   "execution_count": null,
   "metadata": {},
   "outputs": [],
   "source": [
    "import pandas as pd"
   ]
  },
  {
   "cell_type": "code",
   "execution_count": null,
   "metadata": {},
   "outputs": [],
   "source": [
    "encoding_type = 'ISO-8859-1'"
   ]
  },
  {
   "cell_type": "code",
   "execution_count": null,
   "metadata": {},
   "outputs": [],
   "source": [
    "metrics_df = pd.read_csv('Metrics.csv', encoding=encoding_type)\n",
    "sub_metrics_df = pd.read_csv('Component_Sub_Metrics__c.csv', encoding=encoding_type)\n",
    "recordtype_df = pd.read_csv('RecordType.csv', encoding=encoding_type)\n",
    "subactivity_df = pd.read_csv('Component_Sub_Activity__c.csv', encoding=encoding_type)\n",
    "activity_df = pd.read_csv('Component_Activity__c.csv', encoding=encoding_type)\n",
    "component_df = pd.read_csv('Components__c.csv', encoding=encoding_type)\n",
    "opportunity_df = pd.read_csv('Opportunity.csv', encoding=encoding_type)\n",
    "account_df = pd.read_csv('Account.csv', encoding=encoding_type)\n"
   ]
  },
  {
   "cell_type": "code",
   "execution_count": null,
   "metadata": {},
   "outputs": [],
   "source": [
    "metrics_df.drop(columns=['Name'], inplace=True)\n",
    "metrics_df.rename(columns={'Id': 'MetricId'}, inplace=True)"
   ]
  },
  {
   "cell_type": "code",
   "execution_count": null,
   "metadata": {},
   "outputs": [],
   "source": []
  },
  {
   "cell_type": "code",
   "execution_count": null,
   "metadata": {},
   "outputs": [],
   "source": [
    "# Add RecordType to Metrics\n",
    "metrics_df['RecordType'] = metrics_df['RecordTypeId'].apply(lambda x: recordtype_df.loc[recordtype_df['Id'].str.startswith(x), 'Name'].values[0])"
   ]
  },
  {
   "cell_type": "code",
   "execution_count": null,
   "metadata": {},
   "outputs": [],
   "source": [
    "metrics_df['RecordType'].unique()"
   ]
  },
  {
   "cell_type": "code",
   "execution_count": null,
   "metadata": {},
   "outputs": [],
   "source": [
    "# Add Organization Name to Metrics\n",
    "\n",
    "metrics_df = pd.merge(metrics_df, opportunity_df[['Id', 'AccountId']], left_on='Opportunity__c', right_on='Id', how='left')\n",
    "metrics_df.drop(columns=['Id'], inplace=True)\n",
    "metrics_df = pd.merge(metrics_df, account_df[['Id', 'Name']], left_on='AccountId', right_on='Id', how='left')\n",
    "metrics_df = metrics_df.drop(columns=['AccountId', 'Id'])\n",
    "metrics_df = metrics_df.rename(columns={'Name': 'Organization Name'})"
   ]
  },
  {
   "cell_type": "code",
   "execution_count": null,
   "metadata": {},
   "outputs": [],
   "source": [
    "# Add Partner Organization Name to Metrics\n",
    "metrics_df = pd.merge(metrics_df, account_df[['Id', 'Name']], left_on='Partner_Organization__c', right_on='Id', how='left')\n",
    "metrics_df = metrics_df.drop(columns=['Id'])\n",
    "metrics_df = metrics_df.rename(columns={'Name': 'Partner Organization Name'})"
   ]
  },
  {
   "cell_type": "code",
   "execution_count": null,
   "metadata": {},
   "outputs": [],
   "source": [
    "# Add Component Name to Metrics\n",
    "merged_df = pd.merge(metrics_df, subactivity_df[['Id','Activity__c' ]], left_on='Sub_Activity__c', right_on='Id')\n",
    "merged_df = pd.merge(merged_df.drop(columns=['Id']), activity_df[['Id', 'Component__c']], left_on='Activity__c', right_on='Id')\n",
    "merged_df = pd.merge(merged_df.drop(columns=['Id', 'Activity__c']), component_df[['Id', 'Name']], left_on='Component__c', right_on='Id')\n",
    "merged_df = merged_df.drop(columns=['Component__c', 'Id'])\n",
    "merged_df.rename(columns={'Name': 'Component'}, inplace=True)"
   ]
  },
  {
   "cell_type": "code",
   "execution_count": 73,
   "metadata": {},
   "outputs": [],
   "source": [
    "# split the metrics into different files based on component and recordtype\n",
    "grouped_by_component = merged_df.groupby('Component')\n",
    "\n",
    "for component, group in grouped_by_component:\n",
    "    grouped_by_recordtype = group.groupby('RecordType')\n",
    "\n",
    "    for recordtype, group in grouped_by_recordtype:\n",
    "        group = group.dropna(axis=1, how='all')\n",
    "        # add practices to applied paractices\n",
    "        if (recordtype == 'Applied Training Metrics'):\n",
    "            merged = pd.merge(group, sub_metrics_df[['Metrics__c', 'Applied_Practice__c']], left_on='MetricId', right_on='Metrics__c', how='left')\n",
    "            agg_dict = {col: 'first' for col in group.columns if col != 'MetricId'}\n",
    "            agg_dict['Applied_Practice__c'] = lambda x: ', '.join(x.dropna())\n",
    "            group = merged.groupby('MetricId').agg(agg_dict).reset_index()\n",
    "            # Rename the 'practice' column to 'practices'\n",
    "            group.rename(columns={'Applied_Practice__c': 'practices'}, inplace=True)\n",
    "        # remove all empty columns\n",
    "        group = group.dropna(axis=1, how='all')\n",
    "        filename = f'outputs/{component}_{recordtype}.csv'\n",
    "        group.to_csv(filename, index=False)"
   ]
  },
  {
   "cell_type": "code",
   "execution_count": null,
   "metadata": {},
   "outputs": [],
   "source": []
  },
  {
   "cell_type": "code",
   "execution_count": null,
   "metadata": {},
   "outputs": [],
   "source": [
    "import pandas as pd\n",
    "\n",
    "# Create the Agents dataframe with additional columns\n",
    "agents_data = {\n",
    "    'Id': [1, 2, 3, 4, 5],\n",
    "    'Name': ['Arame', 'Daouda', 'Souley', 'Amadou', 'Demba'],\n",
    "    'Column1': ['A', 'B', 'C', 'D', 'E'],  # Additional columns\n",
    "    'Column2': [10, 20, 30, 40, 50]\n",
    "}\n",
    "agents_df = pd.DataFrame(agents_data)\n",
    "\n",
    "# Create the Practices dataframe\n",
    "practices_data = {\n",
    "    'id': [1, 2, 3, 4, 5, 6, 7, 8, 9],\n",
    "    'agentId': [1, 2, 1, 3, 2, 3, 5, 2, 5],\n",
    "    'practice': ['pruning', 'pruning', 'drying', 'fire belting', 'fire belting', 'intercroping', 'intercroping', 'drying', 'pruning']\n",
    "}\n",
    "practices_df = pd.DataFrame(practices_data)\n",
    "\n",
    "# Merge the dataframes on agentId\n",
    "merged_df = pd.merge(agents_df, practices_df, left_on='Id', right_on='agentId', how='left')\n",
    "\n",
    "# Create the aggregation dictionary dynamically\n",
    "agg_dict = {col: 'first' for col in agents_df.columns if col != 'Id'}\n",
    "agg_dict['practice'] = lambda x: ', '.join(x.dropna())\n",
    "\n",
    "# Group by Id and aggregate using the dynamic aggregation dictionary\n",
    "result_df = merged_df.groupby('Id').agg(agg_dict).reset_index()\n",
    "\n",
    "# Rename the 'practice' column to 'practices'\n",
    "result_df.rename(columns={'practice': 'practices'}, inplace=True)\n",
    "\n",
    "print(result_df)\n"
   ]
  }
 ],
 "metadata": {
  "kernelspec": {
   "display_name": "Python 3 (ipykernel)",
   "language": "python",
   "name": "python3"
  },
  "language_info": {
   "codemirror_mode": {
    "name": "ipython",
    "version": 3
   },
   "file_extension": ".py",
   "mimetype": "text/x-python",
   "name": "python",
   "nbconvert_exporter": "python",
   "pygments_lexer": "ipython3",
   "version": "3.10.6"
  }
 },
 "nbformat": 4,
 "nbformat_minor": 2
}
