{
 "cells": [
  {
   "cell_type": "code",
   "execution_count": 1,
   "metadata": {},
   "outputs": [],
   "source": [
    "import pandas as pd"
   ]
  },
  {
   "cell_type": "code",
   "execution_count": 1,
   "metadata": {},
   "outputs": [
    {
     "name": "stdout",
     "output_type": "stream",
     "text": [
      "hello world\n"
     ]
    }
   ],
   "source": [
    "encode_type = 'ISO-8859-1'"
   ]
  },
  {
   "cell_type": "code",
   "execution_count": 2,
   "metadata": {},
   "outputs": [
    {
     "ename": "NameError",
     "evalue": "name 'encoding_type' is not defined",
     "output_type": "error",
     "traceback": [
      "\u001b[0;31m---------------------------------------------------------------------------\u001b[0m",
      "\u001b[0;31mNameError\u001b[0m                                 Traceback (most recent call last)",
      "Cell \u001b[0;32mIn[2], line 1\u001b[0m\n\u001b[0;32m----> 1\u001b[0m metrics_df \u001b[38;5;241m=\u001b[39m pd\u001b[38;5;241m.\u001b[39mread_csv(\u001b[38;5;124m'\u001b[39m\u001b[38;5;124mMetrics.csv\u001b[39m\u001b[38;5;124m'\u001b[39m, encoding\u001b[38;5;241m=\u001b[39m\u001b[43mencoding_type\u001b[49m)\n\u001b[1;32m      2\u001b[0m recordtype_df \u001b[38;5;241m=\u001b[39m pd\u001b[38;5;241m.\u001b[39mread_csv(\u001b[38;5;124m'\u001b[39m\u001b[38;5;124mRecordType.csv\u001b[39m\u001b[38;5;124m'\u001b[39m, encoding\u001b[38;5;241m=\u001b[39mencoding_type)\n\u001b[1;32m      3\u001b[0m subactivity_df \u001b[38;5;241m=\u001b[39m pd\u001b[38;5;241m.\u001b[39mread_csv(\u001b[38;5;124m'\u001b[39m\u001b[38;5;124mComponent_Sub_Activity__c.csv\u001b[39m\u001b[38;5;124m'\u001b[39m, encoding\u001b[38;5;241m=\u001b[39mencoding_type)\n",
      "\u001b[0;31mNameError\u001b[0m: name 'encoding_type' is not defined"
     ]
    }
   ],
   "source": [
    "metrics_df = pd.read_csv('Metrics.csv', encoding=encoding_type)\n",
    "recordtype_df = pd.read_csv('RecordType.csv', encoding=encoding_type)\n",
    "subactivity_df = pd.read_csv('Component_Sub_Activity__c.csv', encoding=encoding_type)\n",
    "activity_df = pd.read_csv('Component_Activity__c.csv', encoding=encoding_type)\n",
    "component_df = pd.read_csv('Components__c.csv', encoding=encoding_type)\n",
    "opportunity_df = pd.read_csv('Opportunity.csv', encoding=encoding_type)\n",
    "account_df = pd.read_csv('Account.csv', encoding=encoding_type)"
   ]
  },
  {
   "cell_type": "code",
   "execution_count": 286,
   "metadata": {},
   "outputs": [],
   "source": [
    "# Add RecordType to Metrics\n",
    "metrics_df['RecordType'] = metrics_df['RecordTypeId'].apply(lambda x: recordtype_df.loc[recordtype_df['Id'].str.startswith(x), 'Name'].values[0])"
   ]
  },
  {
   "cell_type": "code",
   "execution_count": 287,
   "metadata": {},
   "outputs": [],
   "source": [
    "# Add Organization Name to Metrics\n",
    "metrics_df.drop(columns=['Name', 'Id'], inplace=True)\n",
    "metrics_df = pd.merge(metrics_df, opportunity_df[['Id', 'AccountId']], left_on='Opportunity__c', right_on='Id', how='left')\n",
    "metrics_df.drop(columns=['Id'], inplace=True)\n",
    "metrics_df = pd.merge(metrics_df, account_df[['Id', 'Name']], left_on='AccountId', right_on='Id', how='left')\n",
    "metrics_df = metrics_df.drop(columns=['AccountId', 'Id'])\n",
    "metrics_df = metrics_df.rename(columns={'Name': 'Organization Name'})"
   ]
  },
  {
   "cell_type": "code",
   "execution_count": 288,
   "metadata": {},
   "outputs": [],
   "source": [
    "# Add Partner Organization Name to Metrics\n",
    "metrics_df = pd.merge(metrics_df, account_df[['Id', 'Name']], left_on='Partner_Organization__c', right_on='Id', how='left')\n",
    "metrics_df = metrics_df.drop(columns=['Id'])\n",
    "metrics_df = metrics_df.rename(columns={'Name': 'Partner Organization Name'})"
   ]
  },
  {
   "cell_type": "code",
   "execution_count": 289,
   "metadata": {},
   "outputs": [],
   "source": [
    "# Add Component Name to Metrics\n",
    "merged_df = pd.merge(metrics_df, subactivity_df[['Id','Activity__c' ]], left_on='Sub_Activity__c', right_on='Id')\n",
    "merged_df = pd.merge(merged_df.drop(columns=['Id']), activity_df[['Id', 'Component__c']], left_on='Activity__c', right_on='Id')\n",
    "merged_df = pd.merge(merged_df.drop(columns=['Id', 'Activity__c']), component_df[['Id', 'Name']], left_on='Component__c', right_on='Id')\n",
    "merged_df = merged_df.drop(columns=['Component__c', 'Id'])\n",
    "merged_df.rename(columns={'Name': 'Component'}, inplace=True)"
   ]
  },
  {
   "cell_type": "code",
   "execution_count": 290,
   "metadata": {},
   "outputs": [],
   "source": [
    "# split the metrics into different files based on component and recordtype\n",
    "grouped_by_component = merged_df.groupby('Component')\n",
    "\n",
    "for component, group in grouped_by_component:\n",
    "    grouped_by_recordtype = group.groupby('RecordType')\n",
    "\n",
    "    for recordtype, group in grouped_by_recordtype:\n",
    "        # remove all empty columns\n",
    "        group = group.dropna(axis=1, how='all')\n",
    "        filename = f'outputs/{component}_{recordtype}.csv'\n",
    "        group.to_csv(filename, index=False)"
   ]
  },
  {
   "cell_type": "code",
   "execution_count": null,
   "metadata": {},
   "outputs": [],
   "source": [
    "agents_data = {\n",
    "    'Id': [1, 2, 3, 4, 5],\n",
    "    'Name': ['Arame', 'Daouda', 'Souley', 'Amadou', 'Demba']\n",
    "}\n",
    "agents_df = pd.DataFrame(agents_data)\n",
    "\n",
    "# Create the Practices dataframe\n",
    "practices_data = {\n",
    "    'id': [1, 2, 3, 4, 5, 6, 7, 8, 9],\n",
    "    'agentId': [1, 2, 1, 3, 2, 3, 5, 2, 5],\n",
    "    'practice': ['pruning', 'pruning', 'drying', 'fire belting', 'fire belting', 'intercroping', 'intercroping', 'drying', 'pruning']\n",
    "}\n",
    "practices_df = pd.DataFrame(practices_data)\n",
    "\n",
    "# Merge the dataframes on agentId\n",
    "merged_df = pd.merge(agents_df, practices_df, left_on='Id', right_on='agentId', how='left')\n",
    "\n",
    "# Group by agent and aggregate the practices into a comma-separated string\n",
    "result_df = merged_df.groupby(['Id', 'Name'])['practice'].apply(lambda x: ', '.join(x.dropna())).reset_index()\n",
    "\n",
    "# Rename the 'practice' column to 'practices'\n",
    "result_df.rename(columns={'practice': 'practices'}, inplace=True)\n",
    "\n",
    "print(result_df)"
   ]
  }
 ],
 "metadata": {
  "kernelspec": {
   "display_name": "Python 3 (ipykernel)",
   "language": "python",
   "name": "python3"
  },
  "language_info": {
   "codemirror_mode": {
    "name": "ipython",
    "version": 3
   },
   "file_extension": ".py",
   "mimetype": "text/x-python",
   "name": "python",
   "nbconvert_exporter": "python",
   "pygments_lexer": "ipython3",
   "version": "3.10.6"
  }
 },
 "nbformat": 4,
 "nbformat_minor": 2
}
