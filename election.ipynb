{
 "cells": [
  {
   "cell_type": "code",
   "execution_count": 1,
   "metadata": {},
   "outputs": [],
   "source": [
    "import pandas as pd"
   ]
  },
  {
   "cell_type": "code",
   "execution_count": 25,
   "metadata": {},
   "outputs": [],
   "source": [
    "data = pd.read_json('./election.json')['data']\n",
    "df = pd.DataFrame(data.tolist())\n",
    "\n",
    "# Name the columns\n",
    "df.columns = [\"departement\", \"commune\", \"lieu_de_vote\", \"numero_bureau\", \"nombre_inscrits\"]"
   ]
  },
  {
   "cell_type": "code",
   "execution_count": 26,
   "metadata": {},
   "outputs": [
    {
     "data": {
      "text/html": [
       "<div>\n",
       "<style scoped>\n",
       "    .dataframe tbody tr th:only-of-type {\n",
       "        vertical-align: middle;\n",
       "    }\n",
       "\n",
       "    .dataframe tbody tr th {\n",
       "        vertical-align: top;\n",
       "    }\n",
       "\n",
       "    .dataframe thead th {\n",
       "        text-align: right;\n",
       "    }\n",
       "</style>\n",
       "<table border=\"1\" class=\"dataframe\">\n",
       "  <thead>\n",
       "    <tr style=\"text-align: right;\">\n",
       "      <th></th>\n",
       "      <th>departement</th>\n",
       "      <th>commune</th>\n",
       "      <th>lieu_de_vote</th>\n",
       "      <th>numero_bureau</th>\n",
       "      <th>nombre_inscrits</th>\n",
       "    </tr>\n",
       "  </thead>\n",
       "  <tbody>\n",
       "    <tr>\n",
       "      <th>count</th>\n",
       "      <td>15633</td>\n",
       "      <td>15633</td>\n",
       "      <td>15633</td>\n",
       "      <td>15633</td>\n",
       "      <td>15633</td>\n",
       "    </tr>\n",
       "    <tr>\n",
       "      <th>unique</th>\n",
       "      <td>46</td>\n",
       "      <td>553</td>\n",
       "      <td>6341</td>\n",
       "      <td>95</td>\n",
       "      <td>580</td>\n",
       "    </tr>\n",
       "    <tr>\n",
       "      <th>top</th>\n",
       "      <td>DAKAR</td>\n",
       "      <td>TOUBA MOSQUEE</td>\n",
       "      <td>UNIVERSITE TOUBA DAROU KHOUDOSS</td>\n",
       "      <td>1</td>\n",
       "      <td>600</td>\n",
       "    </tr>\n",
       "    <tr>\n",
       "      <th>freq</th>\n",
       "      <td>1275</td>\n",
       "      <td>610</td>\n",
       "      <td>95</td>\n",
       "      <td>6681</td>\n",
       "      <td>323</td>\n",
       "    </tr>\n",
       "  </tbody>\n",
       "</table>\n",
       "</div>"
      ],
      "text/plain": [
       "       departement        commune                     lieu_de_vote  \\\n",
       "count        15633          15633                            15633   \n",
       "unique          46            553                             6341   \n",
       "top          DAKAR  TOUBA MOSQUEE  UNIVERSITE TOUBA DAROU KHOUDOSS   \n",
       "freq          1275            610                               95   \n",
       "\n",
       "       numero_bureau nombre_inscrits  \n",
       "count          15633           15633  \n",
       "unique            95             580  \n",
       "top                1             600  \n",
       "freq            6681             323  "
      ]
     },
     "execution_count": 26,
     "metadata": {},
     "output_type": "execute_result"
    }
   ],
   "source": [
    "df.describe()"
   ]
  },
  {
   "cell_type": "code",
   "execution_count": 27,
   "metadata": {},
   "outputs": [],
   "source": [
    "# Convert nombre_inscrits to numeric\n",
    "df['nombre_inscrits'] = pd.to_numeric(df['nombre_inscrits'], errors='coerce')"
   ]
  },
  {
   "cell_type": "code",
   "execution_count": 28,
   "metadata": {},
   "outputs": [],
   "source": [
    "regions = {\n",
    "  \"DAKAR\": [\"DAKAR\", \"GUEDIAWAYE\", \"KEUR MASSAR\", \"PIKINE\", \"RUFISQUE\"],\n",
    "  \"DIOURBEL\": [\"BAMBEY\", \"DIOURBEL\", \"MBACKE\"],\n",
    "  \"FATICK\": [\"FATICK\", \"FOUNDIOUGNE\", \"GOSSAS\"],\n",
    "  \"KAFFRINE\": [\"BIRKILANE\", \"KAFFRINE\", \"KOUNGHEUL\", \"MALEM HODAR\"],\n",
    "  \"KAOLACK\": [\"GUINGUINEO\", \"KAOLACK\", \"NIORO DU RIP\"],\n",
    "  \"KEDOUGOU\": [\"KEDOUGOU\", \"SALEMATA\", \"SARAYA\"],\n",
    "  \"KOLDA\": [\"KOLDA\", \"MEDINA YORO FOULAH\", \"VELINGARA\"],\n",
    "  \"LOUGA\": [\"KEBEMER\", \"LINGUERE\", \"LOUGA\"],\n",
    "  \"MATAM\": [\"KANEL\", \"MATAM\", \"RANEROU FERLO\"],\n",
    "  \"SAINT LOUIS\": [\"DAGANA\", \"PODOR\", \"SAINT LOUIS\"],\n",
    "  \"SEDHIOU\": [\"BOUNKILING\", \"GOUDOMP\", \"SEDHIOU\"],\n",
    "  \"TAMBACOUNDA\": [\"BAKEL\", \"GOUDIRY\", \"KOUMPENTOUM\", \"TAMBACOUNDA\"],\n",
    "  \"THIES\": [\"MBOUR\", \"THIES\", \"TIVAOUANE\"],\n",
    "  \"ZIGUINCHOR\": [\"BIGNONA\", \"OUSSOUYE\", \"ZIGUINCHOR\"]\n",
    "}\n",
    "\n"
   ]
  },
  {
   "cell_type": "code",
   "execution_count": 29,
   "metadata": {},
   "outputs": [],
   "source": [
    "# Aggregating by departement\n",
    "departement_agg = df.groupby('departement')['nombre_inscrits'].sum().reset_index()\n",
    "departement_agg[\"region\"] = departement_agg[\"departement\"].apply(lambda x: [k for k, v in regions.items() if x in v][0])\n",
    "region_agg = departement_agg.groupby('region')['nombre_inscrits'].sum().reset_index()"
   ]
  },
  {
   "cell_type": "code",
   "execution_count": 30,
   "metadata": {},
   "outputs": [
    {
     "name": "stdout",
     "output_type": "stream",
     "text": [
      "   locality_name locality_type locality_parent_name locality_parent_type  \\\n",
      "0          DAKAR        region              Senegal              country   \n",
      "1       DIOURBEL        region              Senegal              country   \n",
      "2         FATICK        region              Senegal              country   \n",
      "3       KAFFRINE        region              Senegal              country   \n",
      "4        KAOLACK        region              Senegal              country   \n",
      "5       KEDOUGOU        region              Senegal              country   \n",
      "6          KOLDA        region              Senegal              country   \n",
      "7          LOUGA        region              Senegal              country   \n",
      "8          MATAM        region              Senegal              country   \n",
      "9    SAINT LOUIS        region              Senegal              country   \n",
      "10       SEDHIOU        region              Senegal              country   \n",
      "11   TAMBACOUNDA        region              Senegal              country   \n",
      "12         THIES        region              Senegal              country   \n",
      "13    ZIGUINCHOR        region              Senegal              country   \n",
      "\n",
      "    nombre_inscrits  \n",
      "0           1829823  \n",
      "1            635793  \n",
      "2            348525  \n",
      "3            268124  \n",
      "4            464438  \n",
      "5             72413  \n",
      "6            265611  \n",
      "7            460639  \n",
      "8            315863  \n",
      "9            563642  \n",
      "10           210264  \n",
      "11           287149  \n",
      "12          1003310  \n",
      "13           308260  \n"
     ]
    }
   ],
   "source": [
    "\n",
    "region_agg.rename(columns={\"region\": \"locality_name\"}, inplace=True)\n",
    "region_agg['locality_type'] = 'region'\n",
    "region_agg[\"locality_parent_name\"] = \"Senegal\"\n",
    "region_agg[\"locality_parent_type\"] = \"country\"\n",
    "\n",
    "# reorder columns\n",
    "region_agg = region_agg[[\"locality_name\", \"locality_type\", \"locality_parent_name\", \"locality_parent_type\", \"nombre_inscrits\"]]\n",
    "print(region_agg)"
   ]
  },
  {
   "cell_type": "code",
   "execution_count": 31,
   "metadata": {},
   "outputs": [
    {
     "name": "stdout",
     "output_type": "stream",
     "text": [
      "         locality_name locality_type locality_parent_name  \\\n",
      "0                BAKEL   departement          TAMBACOUNDA   \n",
      "1               BAMBEY   departement             DIOURBEL   \n",
      "2              BIGNONA   departement           ZIGUINCHOR   \n",
      "3            BIRKILANE   departement             KAFFRINE   \n",
      "4           BOUNKILING   departement              SEDHIOU   \n",
      "5               DAGANA   departement          SAINT LOUIS   \n",
      "6                DAKAR   departement                DAKAR   \n",
      "7             DIOURBEL   departement             DIOURBEL   \n",
      "8               FATICK   departement               FATICK   \n",
      "9          FOUNDIOUGNE   departement               FATICK   \n",
      "10              GOSSAS   departement               FATICK   \n",
      "11             GOUDIRY   departement          TAMBACOUNDA   \n",
      "12             GOUDOMP   departement              SEDHIOU   \n",
      "13          GUEDIAWAYE   departement                DAKAR   \n",
      "14          GUINGUINEO   departement              KAOLACK   \n",
      "15            KAFFRINE   departement             KAFFRINE   \n",
      "16               KANEL   departement                MATAM   \n",
      "17             KAOLACK   departement              KAOLACK   \n",
      "18             KEBEMER   departement                LOUGA   \n",
      "19            KEDOUGOU   departement             KEDOUGOU   \n",
      "20         KEUR MASSAR   departement                DAKAR   \n",
      "21               KOLDA   departement                KOLDA   \n",
      "22         KOUMPENTOUM   departement          TAMBACOUNDA   \n",
      "23           KOUNGHEUL   departement             KAFFRINE   \n",
      "24            LINGUERE   departement                LOUGA   \n",
      "25               LOUGA   departement                LOUGA   \n",
      "26         MALEM HODAR   departement             KAFFRINE   \n",
      "27               MATAM   departement                MATAM   \n",
      "28              MBACKE   departement             DIOURBEL   \n",
      "29               MBOUR   departement                THIES   \n",
      "30  MEDINA YORO FOULAH   departement                KOLDA   \n",
      "31        NIORO DU RIP   departement              KAOLACK   \n",
      "32            OUSSOUYE   departement           ZIGUINCHOR   \n",
      "33              PIKINE   departement                DAKAR   \n",
      "34               PODOR   departement          SAINT LOUIS   \n",
      "35       RANEROU FERLO   departement                MATAM   \n",
      "36            RUFISQUE   departement                DAKAR   \n",
      "37         SAINT LOUIS   departement          SAINT LOUIS   \n",
      "38            SALEMATA   departement             KEDOUGOU   \n",
      "39              SARAYA   departement             KEDOUGOU   \n",
      "40             SEDHIOU   departement              SEDHIOU   \n",
      "41         TAMBACOUNDA   departement          TAMBACOUNDA   \n",
      "42               THIES   departement                THIES   \n",
      "43           TIVAOUANE   departement                THIES   \n",
      "44           VELINGARA   departement                KOLDA   \n",
      "45          ZIGUINCHOR   departement           ZIGUINCHOR   \n",
      "\n",
      "   locality_parent_type  nombre_inscrits  \n",
      "0                region            66767  \n",
      "1                region           128264  \n",
      "2                region           140315  \n",
      "3                region            51085  \n",
      "4                region            64210  \n",
      "5                region           150197  \n",
      "6                region           707818  \n",
      "7                region           124483  \n",
      "8                region           171291  \n",
      "9                region           130217  \n",
      "10               region            47017  \n",
      "11               region            48425  \n",
      "12               region            73097  \n",
      "13               region           203274  \n",
      "14               region            58558  \n",
      "15               region            98791  \n",
      "16               region           117723  \n",
      "17               region           253830  \n",
      "18               region           133832  \n",
      "19               region            41434  \n",
      "20               region           249588  \n",
      "21               region           106611  \n",
      "22               region            52967  \n",
      "23               region            77835  \n",
      "24               region           133089  \n",
      "25               region           193718  \n",
      "26               region            40413  \n",
      "27               region           170744  \n",
      "28               region           383046  \n",
      "29               region           351023  \n",
      "30               region            46254  \n",
      "31               region           152050  \n",
      "32               region            33287  \n",
      "33               region           391278  \n",
      "34               region           237079  \n",
      "35               region            27396  \n",
      "36               region           277865  \n",
      "37               region           176366  \n",
      "38               region            11481  \n",
      "39               region            19498  \n",
      "40               region            72957  \n",
      "41               region           118990  \n",
      "42               region           395942  \n",
      "43               region           256345  \n",
      "44               region           112746  \n",
      "45               region           134658  \n"
     ]
    }
   ],
   "source": [
    "departement_agg.rename(columns={\"departement\": \"locality_name\", \"region\":\"locality_parent_name\"}, inplace=True)\n",
    "departement_agg['locality_type'] = 'departement'\n",
    "departement_agg[\"locality_parent_type\"] = \"region\"\n",
    "\n",
    "# reorder columns\n",
    "departement_agg = departement_agg[[\"locality_name\", \"locality_type\", \"locality_parent_name\", \"locality_parent_type\", \"nombre_inscrits\"]]\n",
    "print(departement_agg)"
   ]
  },
  {
   "cell_type": "code",
   "execution_count": null,
   "metadata": {},
   "outputs": [],
   "source": []
  },
  {
   "cell_type": "code",
   "execution_count": 32,
   "metadata": {},
   "outputs": [
    {
     "name": "stdout",
     "output_type": "stream",
     "text": [
      "            locality_name locality_type locality_parent_name  \\\n",
      "0                   BAKEL       commune                BAKEL   \n",
      "1                  BALLOU       commune                BAKEL   \n",
      "2                    BELE       commune                BAKEL   \n",
      "3                 DIAWARA       commune                BAKEL   \n",
      "4                   GABOU       commune                BAKEL   \n",
      "..                    ...           ...                  ...   \n",
      "548  BOUTOUPA CAMARACOUND       commune           ZIGUINCHOR   \n",
      "549               ENAMPOR       commune           ZIGUINCHOR   \n",
      "550               NIAGUIS       commune           ZIGUINCHOR   \n",
      "551               NIASSIA       commune           ZIGUINCHOR   \n",
      "552            ZIGUINCHOR       commune           ZIGUINCHOR   \n",
      "\n",
      "    locality_parent_type  nombre_inscrits  \n",
      "0            departement             9624  \n",
      "1            departement             9846  \n",
      "2            departement             7641  \n",
      "3            departement             4802  \n",
      "4            departement             8798  \n",
      "..                   ...              ...  \n",
      "548          departement             4154  \n",
      "549          departement             3583  \n",
      "550          departement             8908  \n",
      "551          departement             5504  \n",
      "552          departement           103844  \n",
      "\n",
      "[553 rows x 5 columns]\n"
     ]
    }
   ],
   "source": [
    "# Aggregating by commune\n",
    "commune_agg = df.groupby(['departement', 'commune'])['nombre_inscrits'].sum().reset_index()\n",
    "commune_agg.rename(columns={'departement': 'locality_parent_name', 'commune': 'locality_name'}, inplace=True)\n",
    "commune_agg[\"locality_type\"] = \"commune\"    \n",
    "commune_agg[\"locality_parent_type\"] = \"departement\"\n",
    "\n",
    "# reorder columns\n",
    "commune_agg = commune_agg[['locality_name', 'locality_type', 'locality_parent_name', 'locality_parent_type', 'nombre_inscrits']]\n",
    "\n",
    "print(commune_agg)"
   ]
  },
  {
   "cell_type": "code",
   "execution_count": 33,
   "metadata": {},
   "outputs": [
    {
     "name": "stdout",
     "output_type": "stream",
     "text": [
      "                          locality_name locality_type locality_parent_name  \\\n",
      "0                              BAGHAGHA  lieu_de_vote               ADEANE   \n",
      "1                               DIAGNON  lieu_de_vote               ADEANE   \n",
      "2            ECOLE ELEMENTAIRE D ADEANE  lieu_de_vote               ADEANE   \n",
      "3     ECOLE ELEMENTAIRE DE AGNACK PETIT  lieu_de_vote               ADEANE   \n",
      "4           ECOLE ELEMENTAIRE DE GONOUM  lieu_de_vote               ADEANE   \n",
      "...                                 ...           ...                  ...   \n",
      "6676                  ECOLE MATAR DIEME  lieu_de_vote           ZIGUINCHOR   \n",
      "6677   ECOLE MISSION CATHOLIQUE DE NEMA  lieu_de_vote           ZIGUINCHOR   \n",
      "6678                 ECOLE MOUNORY MANE  lieu_de_vote           ZIGUINCHOR   \n",
      "6679                  ECOLE SEYDOU KANE  lieu_de_vote           ZIGUINCHOR   \n",
      "6680                     EFI ZIGUINCHOR  lieu_de_vote           ZIGUINCHOR   \n",
      "\n",
      "     locality_parent_type  nombre_inscrits  \n",
      "0                 commune             1537  \n",
      "1                 commune              742  \n",
      "2                 commune             2872  \n",
      "3                 commune             1400  \n",
      "4                 commune              289  \n",
      "...                   ...              ...  \n",
      "6676              commune             6195  \n",
      "6677              commune             2066  \n",
      "6678              commune             1575  \n",
      "6679              commune              934  \n",
      "6680              commune             2782  \n",
      "\n",
      "[6681 rows x 5 columns]\n"
     ]
    }
   ],
   "source": [
    "# Aggregating by lieu_de_vote\n",
    "lieu_de_vote_agg = df.groupby(['commune', 'lieu_de_vote'])['nombre_inscrits'].sum().reset_index()\n",
    "lieu_de_vote_agg.rename(columns={'commune': 'locality_parent_name', 'lieu_de_vote': 'locality_name'}, inplace=True)\n",
    "lieu_de_vote_agg[\"locality_type\"] = \"lieu_de_vote\"\n",
    "lieu_de_vote_agg[\"locality_parent_type\"] = \"commune\"\n",
    "\n",
    "# reorder columns\n",
    "lieu_de_vote_agg = lieu_de_vote_agg[['locality_name', 'locality_type', 'locality_parent_name', 'locality_parent_type', 'nombre_inscrits']]\n",
    "\n",
    "print(lieu_de_vote_agg)"
   ]
  },
  {
   "cell_type": "code",
   "execution_count": 34,
   "metadata": {},
   "outputs": [
    {
     "name": "stdout",
     "output_type": "stream",
     "text": [
      "Total nombre_inscrits: 7033854\n"
     ]
    }
   ],
   "source": [
    "total_inscrits = df['nombre_inscrits'].sum()\n",
    "\n",
    "print(\"Total nombre_inscrits:\", total_inscrits)\n"
   ]
  },
  {
   "cell_type": "code",
   "execution_count": 35,
   "metadata": {},
   "outputs": [],
   "source": [
    "dfs = [region_agg, departement_agg, commune_agg, lieu_de_vote_agg]"
   ]
  },
  {
   "cell_type": "code",
   "execution_count": 36,
   "metadata": {},
   "outputs": [],
   "source": [
    "merged_df = pd.concat(dfs, ignore_index=True)\n",
    "merged_df.to_csv('election_agg.csv', index=False)"
   ]
  }
 ],
 "metadata": {
  "kernelspec": {
   "display_name": "streamlit_kernel",
   "language": "python",
   "name": "streamlit_kernel"
  },
  "language_info": {
   "codemirror_mode": {
    "name": "ipython",
    "version": 3
   },
   "file_extension": ".py",
   "mimetype": "text/x-python",
   "name": "python",
   "nbconvert_exporter": "python",
   "pygments_lexer": "ipython3",
   "version": "3.10.6"
  }
 },
 "nbformat": 4,
 "nbformat_minor": 2
}
